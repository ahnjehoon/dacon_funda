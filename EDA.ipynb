{
 "cells": [
  {
   "cell_type": "markdown",
   "metadata": {},
   "source": [
    "[Data fields]\n",
    "\n",
    "funda_train.csv\n",
    "\n",
    "1. store_id : 상점의 고유 아이디\n",
    "\n",
    "2. card_id : 사용한 카드의 고유 아이디\n",
    "\n",
    "3. card_company : 비식별화된 카드 회사\n",
    "\n",
    "4. trasacted_date : 거래 날짜\n",
    "\n",
    "5. transacted_time : 거래 시간( 시:분 )\n",
    "\n",
    "6. installment_term : 할부 개월 수( 포인트 사용 시 (60개월 + 실제할부개월)을 할부개월수에 기재한다. )\n",
    "\n",
    "7. region : 상점의 지역\n",
    "\n",
    "8. type_of_business : 상점의 업종\n",
    "\n",
    "9. amount : 거래액(단위는 원이 아닙니다)\n",
    "\n",
    "카드 거래 데이터를 이용해 2019-03-01부터 2019-05-31까지의 각 상점별 3개월 총 매출을 예측하는 것입니다"
   ]
  },
  {
   "cell_type": "code",
   "execution_count": 1,
   "metadata": {},
   "outputs": [],
   "source": [
    "import pandas as pd\n",
    "import matplotlib.pyplot as plt\n",
    "import seaborn as sns\n",
    "import numpy as np\n",
    "from sklearn.preprocessing import StandardScaler"
   ]
  },
  {
   "cell_type": "code",
   "execution_count": 2,
   "metadata": {},
   "outputs": [],
   "source": [
    "df_train = pd.read_csv('funda_train.csv')\n",
    "df_test  = pd.read_csv('submission.csv')"
   ]
  },
  {
   "cell_type": "code",
   "execution_count": 3,
   "metadata": {},
   "outputs": [],
   "source": [
    "# 데이터 주작\n",
    "# 환불(refund), 매출(sale) 컬럼 추가\n",
    "df_train['refund'] = df_train['amount'].apply(lambda x:1 if x < 0 else 0)\n",
    "df_train['sale'] =  df_train['amount'].apply(lambda x:1 if x >= 0 else 0)\n",
    "# 년도별, 월별 맞춰줌\n",
    "df_train['yyyy'] = df_train['transacted_date'].apply(lambda x: x[0:4])\n",
    "df_train['mm'] = df_train['transacted_date'].apply(lambda x: x[5:7])\n",
    "df_train['yyyymm'] = df_train['transacted_date'].apply(lambda x: x[0:4] + x[5:7])"
   ]
  },
  {
   "cell_type": "code",
   "execution_count": 4,
   "metadata": {},
   "outputs": [
    {
     "data": {
      "text/plain": [
       "store_id              int64\n",
       "card_id               int64\n",
       "card_company         object\n",
       "transacted_date      object\n",
       "transacted_time      object\n",
       "installment_term      int64\n",
       "region               object\n",
       "type_of_business     object\n",
       "amount              float64\n",
       "refund                int64\n",
       "sale                  int64\n",
       "yyyy                 object\n",
       "mm                   object\n",
       "yyyymm               object\n",
       "dtype: object"
      ]
     },
     "execution_count": 4,
     "metadata": {},
     "output_type": "execute_result"
    }
   ],
   "source": [
    "df_train.dtypes"
   ]
  },
  {
   "cell_type": "code",
   "execution_count": 5,
   "metadata": {},
   "outputs": [
    {
     "data": {
      "text/plain": [
       "(6556613, 14)"
      ]
     },
     "execution_count": 5,
     "metadata": {},
     "output_type": "execute_result"
    }
   ],
   "source": [
    "df_train.shape"
   ]
  },
  {
   "cell_type": "code",
   "execution_count": 6,
   "metadata": {},
   "outputs": [
    {
     "name": "stdout",
     "output_type": "stream",
     "text": [
      "store_id                  0\n",
      "card_id                   0\n",
      "card_company              0\n",
      "transacted_date           0\n",
      "transacted_time           0\n",
      "installment_term          0\n",
      "region              2042766\n",
      "type_of_business    3952609\n",
      "amount                    0\n",
      "refund                    0\n",
      "sale                      0\n",
      "yyyy                      0\n",
      "mm                        0\n",
      "yyyymm                    0\n",
      "dtype: int64\n",
      "store_id            0.000000\n",
      "card_id             0.000000\n",
      "card_company        0.000000\n",
      "transacted_date     0.000000\n",
      "transacted_time     0.000000\n",
      "installment_term    0.000000\n",
      "region              0.311558\n",
      "type_of_business    0.602843\n",
      "amount              0.000000\n",
      "refund              0.000000\n",
      "sale                0.000000\n",
      "yyyy                0.000000\n",
      "mm                  0.000000\n",
      "yyyymm              0.000000\n",
      "dtype: float64\n"
     ]
    }
   ],
   "source": [
    "# 결측치 확인\n",
    "print((df_train.isnull()).sum(axis=0))\n",
    "# 결측치 비율\n",
    "print((df_train.isnull()).sum(axis=0) / df_train.shape[0])"
   ]
  },
  {
   "cell_type": "code",
   "execution_count": 7,
   "metadata": {},
   "outputs": [
    {
     "data": {
      "text/html": [
       "<div>\n",
       "<style scoped>\n",
       "    .dataframe tbody tr th:only-of-type {\n",
       "        vertical-align: middle;\n",
       "    }\n",
       "\n",
       "    .dataframe tbody tr th {\n",
       "        vertical-align: top;\n",
       "    }\n",
       "\n",
       "    .dataframe thead th {\n",
       "        text-align: right;\n",
       "    }\n",
       "</style>\n",
       "<table border=\"1\" class=\"dataframe\">\n",
       "  <thead>\n",
       "    <tr style=\"text-align: right;\">\n",
       "      <th></th>\n",
       "      <th>store_id</th>\n",
       "      <th>card_id</th>\n",
       "      <th>card_company</th>\n",
       "      <th>transacted_date</th>\n",
       "      <th>transacted_time</th>\n",
       "      <th>installment_term</th>\n",
       "      <th>region</th>\n",
       "      <th>type_of_business</th>\n",
       "      <th>amount</th>\n",
       "      <th>refund</th>\n",
       "      <th>sale</th>\n",
       "      <th>yyyy</th>\n",
       "      <th>mm</th>\n",
       "      <th>yyyymm</th>\n",
       "    </tr>\n",
       "  </thead>\n",
       "  <tbody>\n",
       "    <tr>\n",
       "      <th>0</th>\n",
       "      <td>0</td>\n",
       "      <td>0</td>\n",
       "      <td>b</td>\n",
       "      <td>2016-06-01</td>\n",
       "      <td>13:13</td>\n",
       "      <td>0</td>\n",
       "      <td>NaN</td>\n",
       "      <td>기타 미용업</td>\n",
       "      <td>1857.142857</td>\n",
       "      <td>0</td>\n",
       "      <td>1</td>\n",
       "      <td>2016</td>\n",
       "      <td>06</td>\n",
       "      <td>201606</td>\n",
       "    </tr>\n",
       "    <tr>\n",
       "      <th>1</th>\n",
       "      <td>0</td>\n",
       "      <td>1</td>\n",
       "      <td>h</td>\n",
       "      <td>2016-06-01</td>\n",
       "      <td>18:12</td>\n",
       "      <td>0</td>\n",
       "      <td>NaN</td>\n",
       "      <td>기타 미용업</td>\n",
       "      <td>857.142857</td>\n",
       "      <td>0</td>\n",
       "      <td>1</td>\n",
       "      <td>2016</td>\n",
       "      <td>06</td>\n",
       "      <td>201606</td>\n",
       "    </tr>\n",
       "    <tr>\n",
       "      <th>2</th>\n",
       "      <td>0</td>\n",
       "      <td>2</td>\n",
       "      <td>c</td>\n",
       "      <td>2016-06-01</td>\n",
       "      <td>18:52</td>\n",
       "      <td>0</td>\n",
       "      <td>NaN</td>\n",
       "      <td>기타 미용업</td>\n",
       "      <td>2000.000000</td>\n",
       "      <td>0</td>\n",
       "      <td>1</td>\n",
       "      <td>2016</td>\n",
       "      <td>06</td>\n",
       "      <td>201606</td>\n",
       "    </tr>\n",
       "    <tr>\n",
       "      <th>3</th>\n",
       "      <td>0</td>\n",
       "      <td>3</td>\n",
       "      <td>a</td>\n",
       "      <td>2016-06-01</td>\n",
       "      <td>20:22</td>\n",
       "      <td>0</td>\n",
       "      <td>NaN</td>\n",
       "      <td>기타 미용업</td>\n",
       "      <td>7857.142857</td>\n",
       "      <td>0</td>\n",
       "      <td>1</td>\n",
       "      <td>2016</td>\n",
       "      <td>06</td>\n",
       "      <td>201606</td>\n",
       "    </tr>\n",
       "    <tr>\n",
       "      <th>4</th>\n",
       "      <td>0</td>\n",
       "      <td>4</td>\n",
       "      <td>c</td>\n",
       "      <td>2016-06-02</td>\n",
       "      <td>11:06</td>\n",
       "      <td>0</td>\n",
       "      <td>NaN</td>\n",
       "      <td>기타 미용업</td>\n",
       "      <td>2000.000000</td>\n",
       "      <td>0</td>\n",
       "      <td>1</td>\n",
       "      <td>2016</td>\n",
       "      <td>06</td>\n",
       "      <td>201606</td>\n",
       "    </tr>\n",
       "  </tbody>\n",
       "</table>\n",
       "</div>"
      ],
      "text/plain": [
       "   store_id  card_id card_company transacted_date transacted_time  \\\n",
       "0         0        0            b      2016-06-01           13:13   \n",
       "1         0        1            h      2016-06-01           18:12   \n",
       "2         0        2            c      2016-06-01           18:52   \n",
       "3         0        3            a      2016-06-01           20:22   \n",
       "4         0        4            c      2016-06-02           11:06   \n",
       "\n",
       "   installment_term region type_of_business       amount  refund  sale  yyyy  \\\n",
       "0                 0    NaN           기타 미용업  1857.142857       0     1  2016   \n",
       "1                 0    NaN           기타 미용업   857.142857       0     1  2016   \n",
       "2                 0    NaN           기타 미용업  2000.000000       0     1  2016   \n",
       "3                 0    NaN           기타 미용업  7857.142857       0     1  2016   \n",
       "4                 0    NaN           기타 미용업  2000.000000       0     1  2016   \n",
       "\n",
       "   mm  yyyymm  \n",
       "0  06  201606  \n",
       "1  06  201606  \n",
       "2  06  201606  \n",
       "3  06  201606  \n",
       "4  06  201606  "
      ]
     },
     "execution_count": 7,
     "metadata": {},
     "output_type": "execute_result"
    }
   ],
   "source": [
    "df_train.head()"
   ]
  },
  {
   "cell_type": "raw",
   "metadata": {},
   "source": [
    "# 카드사 종류 확인 a ~ h\n",
    "df_train[\"card_company\"].drop_duplicates()"
   ]
  },
  {
   "cell_type": "code",
   "execution_count": 8,
   "metadata": {},
   "outputs": [
    {
     "data": {
      "text/plain": [
       "[0,\n",
       " 2,\n",
       " 3,\n",
       " 4,\n",
       " 5,\n",
       " 6,\n",
       " 7,\n",
       " 8,\n",
       " 9,\n",
       " 10,\n",
       " 11,\n",
       " 12,\n",
       " 13,\n",
       " 14,\n",
       " 15,\n",
       " 16,\n",
       " 17,\n",
       " 18,\n",
       " 19,\n",
       " 20,\n",
       " 22,\n",
       " 23,\n",
       " 24,\n",
       " 30,\n",
       " 35,\n",
       " 36,\n",
       " 60,\n",
       " 63,\n",
       " 65,\n",
       " 72,\n",
       " 80,\n",
       " 82,\n",
       " 83,\n",
       " 93]"
      ]
     },
     "execution_count": 8,
     "metadata": {},
     "output_type": "execute_result"
    }
   ],
   "source": [
    "# 할부 기간 종류 확인\n",
    "sorted(df_train[\"installment_term\"].drop_duplicates())"
   ]
  },
  {
   "cell_type": "raw",
   "metadata": {},
   "source": [
    "df_train[df_train[\"amount\"] > 1000000]"
   ]
  },
  {
   "cell_type": "raw",
   "metadata": {},
   "source": [
    "df_train[df_train[\"amount\"] < -1000000]"
   ]
  },
  {
   "cell_type": "code",
   "execution_count": 9,
   "metadata": {},
   "outputs": [
    {
     "data": {
      "text/html": [
       "<div>\n",
       "<style scoped>\n",
       "    .dataframe tbody tr th:only-of-type {\n",
       "        vertical-align: middle;\n",
       "    }\n",
       "\n",
       "    .dataframe tbody tr th {\n",
       "        vertical-align: top;\n",
       "    }\n",
       "\n",
       "    .dataframe thead th {\n",
       "        text-align: right;\n",
       "    }\n",
       "</style>\n",
       "<table border=\"1\" class=\"dataframe\">\n",
       "  <thead>\n",
       "    <tr style=\"text-align: right;\">\n",
       "      <th></th>\n",
       "      <th>store_id</th>\n",
       "      <th>card_id</th>\n",
       "      <th>card_company</th>\n",
       "      <th>transacted_date</th>\n",
       "      <th>transacted_time</th>\n",
       "      <th>installment_term</th>\n",
       "      <th>region</th>\n",
       "      <th>type_of_business</th>\n",
       "      <th>amount</th>\n",
       "      <th>refund</th>\n",
       "      <th>sale</th>\n",
       "      <th>yyyy</th>\n",
       "      <th>mm</th>\n",
       "      <th>yyyymm</th>\n",
       "    </tr>\n",
       "  </thead>\n",
       "  <tbody>\n",
       "    <tr>\n",
       "      <th>0</th>\n",
       "      <td>0</td>\n",
       "      <td>0</td>\n",
       "      <td>b</td>\n",
       "      <td>2016-06-01</td>\n",
       "      <td>13:13</td>\n",
       "      <td>0</td>\n",
       "      <td>NaN</td>\n",
       "      <td>기타 미용업</td>\n",
       "      <td>1857.142857</td>\n",
       "      <td>0</td>\n",
       "      <td>1</td>\n",
       "      <td>2016</td>\n",
       "      <td>06</td>\n",
       "      <td>201606</td>\n",
       "    </tr>\n",
       "    <tr>\n",
       "      <th>1</th>\n",
       "      <td>0</td>\n",
       "      <td>1</td>\n",
       "      <td>h</td>\n",
       "      <td>2016-06-01</td>\n",
       "      <td>18:12</td>\n",
       "      <td>0</td>\n",
       "      <td>NaN</td>\n",
       "      <td>기타 미용업</td>\n",
       "      <td>857.142857</td>\n",
       "      <td>0</td>\n",
       "      <td>1</td>\n",
       "      <td>2016</td>\n",
       "      <td>06</td>\n",
       "      <td>201606</td>\n",
       "    </tr>\n",
       "    <tr>\n",
       "      <th>2</th>\n",
       "      <td>0</td>\n",
       "      <td>2</td>\n",
       "      <td>c</td>\n",
       "      <td>2016-06-01</td>\n",
       "      <td>18:52</td>\n",
       "      <td>0</td>\n",
       "      <td>NaN</td>\n",
       "      <td>기타 미용업</td>\n",
       "      <td>2000.000000</td>\n",
       "      <td>0</td>\n",
       "      <td>1</td>\n",
       "      <td>2016</td>\n",
       "      <td>06</td>\n",
       "      <td>201606</td>\n",
       "    </tr>\n",
       "    <tr>\n",
       "      <th>3</th>\n",
       "      <td>0</td>\n",
       "      <td>3</td>\n",
       "      <td>a</td>\n",
       "      <td>2016-06-01</td>\n",
       "      <td>20:22</td>\n",
       "      <td>0</td>\n",
       "      <td>NaN</td>\n",
       "      <td>기타 미용업</td>\n",
       "      <td>7857.142857</td>\n",
       "      <td>0</td>\n",
       "      <td>1</td>\n",
       "      <td>2016</td>\n",
       "      <td>06</td>\n",
       "      <td>201606</td>\n",
       "    </tr>\n",
       "    <tr>\n",
       "      <th>4</th>\n",
       "      <td>0</td>\n",
       "      <td>4</td>\n",
       "      <td>c</td>\n",
       "      <td>2016-06-02</td>\n",
       "      <td>11:06</td>\n",
       "      <td>0</td>\n",
       "      <td>NaN</td>\n",
       "      <td>기타 미용업</td>\n",
       "      <td>2000.000000</td>\n",
       "      <td>0</td>\n",
       "      <td>1</td>\n",
       "      <td>2016</td>\n",
       "      <td>06</td>\n",
       "      <td>201606</td>\n",
       "    </tr>\n",
       "  </tbody>\n",
       "</table>\n",
       "</div>"
      ],
      "text/plain": [
       "   store_id  card_id card_company transacted_date transacted_time  \\\n",
       "0         0        0            b      2016-06-01           13:13   \n",
       "1         0        1            h      2016-06-01           18:12   \n",
       "2         0        2            c      2016-06-01           18:52   \n",
       "3         0        3            a      2016-06-01           20:22   \n",
       "4         0        4            c      2016-06-02           11:06   \n",
       "\n",
       "   installment_term region type_of_business       amount  refund  sale  yyyy  \\\n",
       "0                 0    NaN           기타 미용업  1857.142857       0     1  2016   \n",
       "1                 0    NaN           기타 미용업   857.142857       0     1  2016   \n",
       "2                 0    NaN           기타 미용업  2000.000000       0     1  2016   \n",
       "3                 0    NaN           기타 미용업  7857.142857       0     1  2016   \n",
       "4                 0    NaN           기타 미용업  2000.000000       0     1  2016   \n",
       "\n",
       "   mm  yyyymm  \n",
       "0  06  201606  \n",
       "1  06  201606  \n",
       "2  06  201606  \n",
       "3  06  201606  \n",
       "4  06  201606  "
      ]
     },
     "execution_count": 9,
     "metadata": {},
     "output_type": "execute_result"
    }
   ],
   "source": [
    "df_train.head()"
   ]
  },
  {
   "cell_type": "code",
   "execution_count": 10,
   "metadata": {},
   "outputs": [
    {
     "data": {
      "text/plain": [
       "yyyy  store_id\n",
       "2016  0           5.815714e+06\n",
       "      1           8.542857e+05\n",
       "      2           1.086143e+06\n",
       "      4           5.829357e+06\n",
       "      5           1.812086e+06\n",
       "                      ...     \n",
       "2019  2132        1.201571e+06\n",
       "      2133        2.002857e+05\n",
       "      2134        3.754286e+05\n",
       "      2135        8.665714e+05\n",
       "      2136        4.101071e+06\n",
       "Name: amount, Length: 7535, dtype: float64"
      ]
     },
     "execution_count": 10,
     "metadata": {},
     "output_type": "execute_result"
    }
   ],
   "source": [
    "# 사업장별 년도별 매출 통계\n",
    "df_train.groupby(['yyyy', 'store_id'])['amount'].sum()"
   ]
  },
  {
   "cell_type": "code",
   "execution_count": 11,
   "metadata": {},
   "outputs": [
    {
     "data": {
      "text/plain": [
       "yyyymm  store_id\n",
       "201606  0           7.470000e+05\n",
       "        1           1.372143e+05\n",
       "        2           2.607143e+05\n",
       "        4           7.334286e+05\n",
       "        5           3.425000e+05\n",
       "                        ...     \n",
       "201902  2132        6.304286e+05\n",
       "        2133        1.162857e+05\n",
       "        2134        1.660000e+05\n",
       "        2135        4.042857e+05\n",
       "        2136        2.227429e+06\n",
       "Name: amount, Length: 60232, dtype: float64"
      ]
     },
     "execution_count": 11,
     "metadata": {},
     "output_type": "execute_result"
    }
   ],
   "source": [
    "# 사업장별 월별 매출 통계\n",
    "df_train.groupby(['yyyymm', 'store_id'])['amount'].sum()"
   ]
  },
  {
   "cell_type": "raw",
   "metadata": {},
   "source": [
    "# amount가 0인것들은 금액이 너무 작아서 그런거라고 함\n",
    "df_train[df_train['amount'] == 0]"
   ]
  },
  {
   "cell_type": "raw",
   "metadata": {},
   "source": [
    "# 사업장별 년도별 거래건수 통계\n",
    "df_train.groupby(['store_id', 'yyyy'])['refund', 'sale','amount'].sum()\n",
    "# 사업장별 월별 거래건수 통계\n",
    "df_train.groupby(['store_id', 'yyyymm'])['refund', 'sale','amount'].sum()"
   ]
  },
  {
   "cell_type": "code",
   "execution_count": 14,
   "metadata": {},
   "outputs": [
    {
     "data": {
      "text/plain": [
       "yyyy  store_id\n",
       "2016  0           5.815714e+06\n",
       "      1           8.542857e+05\n",
       "      2           1.086143e+06\n",
       "      4           5.829357e+06\n",
       "      5           1.812086e+06\n",
       "                      ...     \n",
       "2019  2132        1.201571e+06\n",
       "      2133        2.002857e+05\n",
       "      2134        3.754286e+05\n",
       "      2135        8.665714e+05\n",
       "      2136        4.101071e+06\n",
       "Name: amount, Length: 7535, dtype: float64"
      ]
     },
     "execution_count": 14,
     "metadata": {},
     "output_type": "execute_result"
    }
   ],
   "source": [
    "# 사업장별 년도별 매출 통계\n",
    "df_train.groupby(['yyyy', 'store_id'])['amount'].sum()"
   ]
  },
  {
   "cell_type": "code",
   "execution_count": 15,
   "metadata": {},
   "outputs": [
    {
     "data": {
      "text/plain": [
       "0              NaN\n",
       "8847        서울 종로구\n",
       "16635       충북 충주시\n",
       "26837       부산 동래구\n",
       "31685       경기 평택시\n",
       "            ...   \n",
       "6126765     세종 달빛로\n",
       "6325620    세종 조치원읍\n",
       "6396018     경북 칠곡군\n",
       "6520675     강원 철원군\n",
       "6541127     충남 예산군\n",
       "Name: region, Length: 181, dtype: object"
      ]
     },
     "execution_count": 15,
     "metadata": {},
     "output_type": "execute_result"
    }
   ],
   "source": [
    "df_train[\"region\"].drop_duplicates()"
   ]
  },
  {
   "cell_type": "code",
   "execution_count": 16,
   "metadata": {},
   "outputs": [
    {
     "data": {
      "text/plain": [
       "0                                기타 미용업\n",
       "4481                                NaN\n",
       "14677              의복 액세서리 및 모조 장신구 도매업\n",
       "26837                           한식 음식점업\n",
       "37584                   배관 및 냉ㆍ난방장치 도매업\n",
       "                       ...             \n",
       "6124335                         체인화 편의점\n",
       "6169200                   침구 및 관련제품 제조업\n",
       "6194267                      스포츠 클럽 운영업\n",
       "6357193    생활용 유리ㆍ요업ㆍ목재ㆍ금속 제품 및 날붙이 도매업\n",
       "6403058                            예식장업\n",
       "Name: type_of_business, Length: 146, dtype: object"
      ]
     },
     "execution_count": 16,
     "metadata": {},
     "output_type": "execute_result"
    }
   ],
   "source": [
    "df_train[\"type_of_business\"].drop_duplicates()"
   ]
  },
  {
   "cell_type": "code",
   "execution_count": 17,
   "metadata": {},
   "outputs": [
    {
     "data": {
      "text/plain": [
       "0                                기타 미용업\n",
       "4481                                NaN\n",
       "14677              의복 액세서리 및 모조 장신구 도매업\n",
       "26837                           한식 음식점업\n",
       "37584                   배관 및 냉ㆍ난방장치 도매업\n",
       "                       ...             \n",
       "6124335                         체인화 편의점\n",
       "6169200                   침구 및 관련제품 제조업\n",
       "6194267                      스포츠 클럽 운영업\n",
       "6357193    생활용 유리ㆍ요업ㆍ목재ㆍ금속 제품 및 날붙이 도매업\n",
       "6403058                            예식장업\n",
       "Name: type_of_business, Length: 146, dtype: object"
      ]
     },
     "execution_count": 17,
     "metadata": {},
     "output_type": "execute_result"
    }
   ],
   "source": [
    "df_train[\"type_of_business\"].drop_duplicates()"
   ]
  },
  {
   "cell_type": "markdown",
   "metadata": {},
   "source": [
    "## 카드사별 매출 분석"
   ]
  },
  {
   "cell_type": "markdown",
   "metadata": {},
   "source": [
    "### 매출건수 확인"
   ]
  },
  {
   "cell_type": "code",
   "execution_count": 18,
   "metadata": {},
   "outputs": [
    {
     "data": {
      "text/plain": [
       "<matplotlib.axes._subplots.AxesSubplot at 0x192ac5f5518>"
      ]
     },
     "execution_count": 18,
     "metadata": {},
     "output_type": "execute_result"
    },
    {
     "data": {
      "image/png": "[encoded data removed]",
      "text/plain": [
       "<Figure size 432x288 with 1 Axes>"
      ]
     },
     "metadata": {
      "needs_background": "light"
     },
     "output_type": "display_data"
    }
   ],
   "source": [
    "sns.countplot(df_train['card_company']\n",
    "              , order = df_train['card_company'].value_counts().index)"
   ]
  },
  {
   "cell_type": "markdown",
   "metadata": {},
   "source": [
    "### 카드사별 매출액 확인"
   ]
  },
  {
   "cell_type": "code",
   "execution_count": 19,
   "metadata": {},
   "outputs": [
    {
     "data": {
      "text/plain": [
       "<matplotlib.axes._subplots.AxesSubplot at 0x192ac67b160>"
      ]
     },
     "execution_count": 19,
     "metadata": {},
     "output_type": "execute_result"
    },
    {
     "data": {
      "image/png": "[encoded data removed]",
      "text/plain": [
       "<Figure size 432x288 with 1 Axes>"
      ]
     },
     "metadata": {
      "needs_background": "light"
     },
     "output_type": "display_data"
    }
   ],
   "source": [
    "df_train[['card_company','amount']].groupby(\"card_company\").sum().sort_values(by='amount', ascending=False).plot.bar()"
   ]
  },
  {
   "cell_type": "markdown",
   "metadata": {},
   "source": [
    "### 카드사별 년도별 매출액 확인"
   ]
  },
  {
   "cell_type": "code",
   "execution_count": 20,
   "metadata": {},
   "outputs": [
    {
     "data": {
      "text/plain": [
       "<matplotlib.axes._subplots.AxesSubplot at 0x192ac728d68>"
      ]
     },
     "execution_count": 20,
     "metadata": {},
     "output_type": "execute_result"
    },
    {
     "data": {
      "image/png": "[encoded data removed]",
      "text/plain": [
       "<Figure size 432x288 with 1 Axes>"
      ]
     },
     "metadata": {
      "needs_background": "light"
     },
     "output_type": "display_data"
    }
   ],
   "source": [
    "df_train[['card_company','amount', 'yyyy']].groupby(['card_company','yyyy']).sum().sort_values(by=['yyyy','card_company'], ascending=True).plot.bar()"
   ]
  },
  {
   "cell_type": "code",
   "execution_count": 21,
   "metadata": {},
   "outputs": [
    {
     "data": {
      "text/plain": [
       "<matplotlib.axes._subplots.AxesSubplot at 0x192ac707320>"
      ]
     },
     "execution_count": 21,
     "metadata": {},
     "output_type": "execute_result"
    },
    {
     "data": {
      "image/png": "[encoded data removed]",
      "text/plain": [
       "<Figure size 432x288 with 1 Axes>"
      ]
     },
     "metadata": {
      "needs_background": "light"
     },
     "output_type": "display_data"
    }
   ],
   "source": [
    "df_train[['card_company','amount', 'yyyy']].groupby(['card_company','yyyy']).sum().sort_values(by=['card_company','yyyy'], ascending=True).plot.bar()"
   ]
  },
  {
   "cell_type": "markdown",
   "metadata": {},
   "source": [
    "글쎄.. 이것만 봐서는 모르겠다"
   ]
  },
  {
   "cell_type": "code",
   "execution_count": null,
   "metadata": {},
   "outputs": [],
   "source": []
  }
 ],
 "metadata": {
  "kernelspec": {
   "display_name": "Python 3",
   "language": "python",
   "name": "python3"
  },
  "language_info": {
   "codemirror_mode": {
    "name": "ipython",
    "version": 3
   },
   "file_extension": ".py",
   "mimetype": "text/x-python",
   "name": "python",
   "nbconvert_exporter": "python",
   "pygments_lexer": "ipython3",
   "version": "3.6.8"
  }
 },
 "nbformat": 4,
 "nbformat_minor": 2
}
